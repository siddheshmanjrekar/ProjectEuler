{
 "cells": [
  {
   "cell_type": "markdown",
   "metadata": {},
   "source": [
    "# Problem 37"
   ]
  },
  {
   "cell_type": "markdown",
   "metadata": {},
   "source": [
    "## Truncatable primes"
   ]
  },
  {
   "cell_type": "code",
   "execution_count": 1,
   "metadata": {},
   "outputs": [],
   "source": [
    "import math"
   ]
  },
  {
   "cell_type": "code",
   "execution_count": 2,
   "metadata": {},
   "outputs": [],
   "source": [
    "prime_count= 0\n",
    "total= 0"
   ]
  },
  {
   "cell_type": "code",
   "execution_count": 3,
   "metadata": {},
   "outputs": [],
   "source": [
    "def isPrime(num):\n",
    "    count= 0\n",
    "    if(num==1):\n",
    "        return False\n",
    "    \n",
    "    if(num== 2):\n",
    "        return True\n",
    "    \n",
    "    if(num%2==0):\n",
    "        return False\n",
    "    \n",
    "    j= 3\n",
    "    while(j<= math.ceil(math.sqrt(num))):\n",
    "        if(num%j== 0):\n",
    "            return False\n",
    "        j+=2\n",
    "    return True"
   ]
  },
  {
   "cell_type": "code",
   "execution_count": 4,
   "metadata": {},
   "outputs": [],
   "source": [
    "def rightToLeft(num):\n",
    "    num= num//10\n",
    "    while(num>0):\n",
    "        if(isPrime(num)):\n",
    "            num=num//10\n",
    "        else:\n",
    "            return False\n",
    "    return True"
   ]
  },
  {
   "cell_type": "code",
   "execution_count": 5,
   "metadata": {},
   "outputs": [],
   "source": [
    "def leftToRight(num, exp):\n",
    "    while(exp>=0):\n",
    "        if(isPrime(num)):\n",
    "            num= num%(10**exp)\n",
    "            exp-= 1\n",
    "        else:\n",
    "            return False\n",
    "    return True"
   ]
  },
  {
   "cell_type": "code",
   "execution_count": 6,
   "metadata": {},
   "outputs": [],
   "source": [
    "i= 9\n",
    "while(prime_count!= 11):\n",
    "    i+=2\n",
    "    if(isPrime(i)):\n",
    "        if(rightToLeft(i)):\n",
    "            exp= math.floor(math.log(i,10))\n",
    "            if(leftToRight(i, exp)):\n",
    "                prime_count+= 1\n",
    "                total+= i"
   ]
  },
  {
   "cell_type": "code",
   "execution_count": 7,
   "metadata": {},
   "outputs": [
    {
     "data": {
      "text/plain": [
       "748317"
      ]
     },
     "execution_count": 7,
     "metadata": {},
     "output_type": "execute_result"
    }
   ],
   "source": [
    "total"
   ]
  }
 ],
 "metadata": {
  "kernelspec": {
   "display_name": "Python 3",
   "language": "python",
   "name": "python3"
  },
  "language_info": {
   "codemirror_mode": {
    "name": "ipython",
    "version": 3
   },
   "file_extension": ".py",
   "mimetype": "text/x-python",
   "name": "python",
   "nbconvert_exporter": "python",
   "pygments_lexer": "ipython3",
   "version": "3.7.3"
  }
 },
 "nbformat": 4,
 "nbformat_minor": 2
}
