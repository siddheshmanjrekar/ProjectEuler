{
 "cells": [
  {
   "cell_type": "markdown",
   "metadata": {},
   "source": [
    "# Problem 58"
   ]
  },
  {
   "cell_type": "markdown",
   "metadata": {},
   "source": [
    "## Spiral primes"
   ]
  },
  {
   "cell_type": "code",
   "execution_count": 1,
   "metadata": {},
   "outputs": [],
   "source": [
    "import math"
   ]
  },
  {
   "cell_type": "code",
   "execution_count": 2,
   "metadata": {},
   "outputs": [],
   "source": [
    "ratio_of_primes= 100\n",
    "diff_level_1= 0\n",
    "diff_level_2= 1\n",
    "count= 0"
   ]
  },
  {
   "cell_type": "code",
   "execution_count": 3,
   "metadata": {},
   "outputs": [],
   "source": [
    "def isPrime(num):\n",
    "    count= 0\n",
    "    if(num==1):\n",
    "        return False\n",
    "    \n",
    "    if(num== 2):\n",
    "        return True\n",
    "    \n",
    "    if(num%2==0):\n",
    "        return False\n",
    "    \n",
    "    j= 3\n",
    "    while(j<= math.ceil(math.sqrt(num))):\n",
    "        if(num%j== 0):\n",
    "            return False\n",
    "        j+=2\n",
    "    return True"
   ]
  },
  {
   "cell_type": "code",
   "execution_count": 4,
   "metadata": {},
   "outputs": [],
   "source": [
    "side_length= 1\n",
    "step= 0\n",
    "while ratio_of_primes >= 0.1:\n",
    "    side_length+= 2\n",
    "    iteration= (side_length//2)*4\n",
    "    for j in range(step, iteration, 1):\n",
    "        diff_level_1=((j//4)+1)*2\n",
    "        diff_level_2+=diff_level_1\n",
    "        if(isPrime(diff_level_2)):\n",
    "            count+=1\n",
    "        \n",
    "    step= iteration\n",
    "    ratio_of_primes= count/(iteration+1)"
   ]
  },
  {
   "cell_type": "code",
   "execution_count": 6,
   "metadata": {},
   "outputs": [
    {
     "data": {
      "text/plain": [
       "26241"
      ]
     },
     "execution_count": 6,
     "metadata": {},
     "output_type": "execute_result"
    }
   ],
   "source": [
    "side_length"
   ]
  }
 ],
 "metadata": {
  "kernelspec": {
   "display_name": "Python 3",
   "language": "python",
   "name": "python3"
  },
  "language_info": {
   "codemirror_mode": {
    "name": "ipython",
    "version": 3
   },
   "file_extension": ".py",
   "mimetype": "text/x-python",
   "name": "python",
   "nbconvert_exporter": "python",
   "pygments_lexer": "ipython3",
   "version": "3.7.3"
  }
 },
 "nbformat": 4,
 "nbformat_minor": 2
}
