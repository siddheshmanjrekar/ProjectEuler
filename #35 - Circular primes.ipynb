{
 "cells": [
  {
   "cell_type": "markdown",
   "metadata": {},
   "source": [
    "# Problem 35"
   ]
  },
  {
   "cell_type": "markdown",
   "metadata": {},
   "source": [
    "## Circular primes"
   ]
  },
  {
   "cell_type": "code",
   "execution_count": 1,
   "metadata": {},
   "outputs": [],
   "source": [
    "import math"
   ]
  },
  {
   "cell_type": "code",
   "execution_count": 2,
   "metadata": {},
   "outputs": [],
   "source": [
    "circular_primes=0"
   ]
  },
  {
   "cell_type": "code",
   "execution_count": 3,
   "metadata": {},
   "outputs": [],
   "source": [
    "for n in range(1, 1000000, 2):\n",
    "    count= 0\n",
    "    exp= math.floor(math.log(n,10))\n",
    "    for i in range(exp+1):\n",
    "        div= n//10\n",
    "        rem= n%10\n",
    "        n= (div)+(rem*(10**exp))\n",
    "\n",
    "        isPrime= True\n",
    "        j= 3\n",
    "        if(n%2==0):\n",
    "            isPrime= False\n",
    "            i=10\n",
    "        while(isPrime and j<=math.ceil(math.sqrt(n))):\n",
    "            if (n%j==0):\n",
    "                i=10\n",
    "                isPrime= False\n",
    "            j+= 2\n",
    "            \n",
    "        if(isPrime):\n",
    "            count+=1\n",
    "            \n",
    "    if count==exp+1:\n",
    "        circular_primes+= 1"
   ]
  },
  {
   "cell_type": "code",
   "execution_count": 4,
   "metadata": {},
   "outputs": [
    {
     "name": "stdout",
     "output_type": "stream",
     "text": [
      "55\n"
     ]
    }
   ],
   "source": [
    "print(circular_primes)"
   ]
  }
 ],
 "metadata": {
  "kernelspec": {
   "display_name": "Python 3",
   "language": "python",
   "name": "python3"
  },
  "language_info": {
   "codemirror_mode": {
    "name": "ipython",
    "version": 3
   },
   "file_extension": ".py",
   "mimetype": "text/x-python",
   "name": "python",
   "nbconvert_exporter": "python",
   "pygments_lexer": "ipython3",
   "version": "3.7.3"
  }
 },
 "nbformat": 4,
 "nbformat_minor": 2
}
