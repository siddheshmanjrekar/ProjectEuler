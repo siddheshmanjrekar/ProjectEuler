{
 "cells": [
  {
   "cell_type": "markdown",
   "metadata": {},
   "source": [
    "# Problem 50"
   ]
  },
  {
   "cell_type": "markdown",
   "metadata": {},
   "source": [
    "## Consecutive prime sum"
   ]
  },
  {
   "cell_type": "code",
   "execution_count": 1,
   "metadata": {},
   "outputs": [],
   "source": [
    "import math"
   ]
  },
  {
   "cell_type": "code",
   "execution_count": 2,
   "metadata": {},
   "outputs": [],
   "source": [
    "total= 0\n",
    "n= 1000000\n",
    "prime = [i for i in range(n+1)]\n",
    "prime[1]= False\n",
    "max= [0]*2"
   ]
  },
  {
   "cell_type": "code",
   "execution_count": 3,
   "metadata": {},
   "outputs": [],
   "source": [
    "i=2\n",
    "while(i < math.ceil(math.sqrt(n))):\n",
    "    for j in range(i*2, n+1, i):\n",
    "        prime[j]= False\n",
    "    i+=1"
   ]
  },
  {
   "cell_type": "code",
   "execution_count": 4,
   "metadata": {},
   "outputs": [],
   "source": [
    "prime[:] = [x for x in prime if x != False]"
   ]
  },
  {
   "cell_type": "code",
   "execution_count": 5,
   "metadata": {
    "scrolled": true
   },
   "outputs": [],
   "source": [
    "for i in range(len(prime)):\n",
    "    total= 0\n",
    "    low= 0\n",
    "    count= 0\n",
    "    j= 0\n",
    "    \n",
    "    while j<i:\n",
    "        while(total>prime[i]):\n",
    "            total-= prime[low]\n",
    "            low+= 1\n",
    "            count-= 1\n",
    "            \n",
    "        if(total== prime[i]):\n",
    "            j= i\n",
    "            if(max[0]<count):\n",
    "                max[0]= count\n",
    "                max[1]= prime[i]\n",
    "            \n",
    "        total+= prime[j]\n",
    "        count+= 1\n",
    "        j+=1"
   ]
  },
  {
   "cell_type": "code",
   "execution_count": 6,
   "metadata": {},
   "outputs": [
    {
     "data": {
      "text/plain": [
       "997651"
      ]
     },
     "execution_count": 6,
     "metadata": {},
     "output_type": "execute_result"
    }
   ],
   "source": [
    "max[1]"
   ]
  }
 ],
 "metadata": {
  "kernelspec": {
   "display_name": "Python 3",
   "language": "python",
   "name": "python3"
  },
  "language_info": {
   "codemirror_mode": {
    "name": "ipython",
    "version": 3
   },
   "file_extension": ".py",
   "mimetype": "text/x-python",
   "name": "python",
   "nbconvert_exporter": "python",
   "pygments_lexer": "ipython3",
   "version": "3.7.3"
  }
 },
 "nbformat": 4,
 "nbformat_minor": 2
}
