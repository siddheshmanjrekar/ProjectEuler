{
 "cells": [
  {
   "cell_type": "markdown",
   "metadata": {},
   "source": [
    "# Problem 9"
   ]
  },
  {
   "cell_type": "markdown",
   "metadata": {},
   "source": [
    "## Special Pythagorean triplet"
   ]
  },
  {
   "cell_type": "code",
   "execution_count": 1,
   "metadata": {},
   "outputs": [],
   "source": [
    "import math"
   ]
  },
  {
   "cell_type": "code",
   "execution_count": 2,
   "metadata": {},
   "outputs": [],
   "source": [
    "triplet_search= True\n",
    "product= 1"
   ]
  },
  {
   "cell_type": "markdown",
   "metadata": {},
   "source": [
    "Using the  below properties to iterate through valid values:\n",
    "Exactly one of a, b is odd<br>\n",
    "Exactly one of a, b is divisible by 4<br>"
   ]
  },
  {
   "cell_type": "code",
   "execution_count": 3,
   "metadata": {},
   "outputs": [],
   "source": [
    "a= 3\n",
    "while(triplet_search):\n",
    "    b= 4\n",
    "    break_loop= True\n",
    "    while(break_loop):\n",
    "        c= math.sqrt((a**2)+(b**2))\n",
    "        \n",
    "        if(int(c//math.ceil(c))== 1):\n",
    "            break_loop= False\n",
    "            if((1000%(a+b+c)) == 0):\n",
    "                product= (a*b*c)*((1000//(a+b+c))**3)\n",
    "                triplet_search= False\n",
    "            \n",
    "        if(int(math.floor(c))== b):\n",
    "            break_loop= False\n",
    "            \n",
    "        b+= 4\n",
    "    a+=2"
   ]
  },
  {
   "cell_type": "code",
   "execution_count": 4,
   "metadata": {},
   "outputs": [
    {
     "data": {
      "text/plain": [
       "31875000.0"
      ]
     },
     "execution_count": 4,
     "metadata": {},
     "output_type": "execute_result"
    }
   ],
   "source": [
    "product"
   ]
  }
 ],
 "metadata": {
  "kernelspec": {
   "display_name": "Python 3",
   "language": "python",
   "name": "python3"
  },
  "language_info": {
   "codemirror_mode": {
    "name": "ipython",
    "version": 3
   },
   "file_extension": ".py",
   "mimetype": "text/x-python",
   "name": "python",
   "nbconvert_exporter": "python",
   "pygments_lexer": "ipython3",
   "version": "3.7.3"
  }
 },
 "nbformat": 4,
 "nbformat_minor": 2
}
