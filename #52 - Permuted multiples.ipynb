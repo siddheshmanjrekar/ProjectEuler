{
 "cells": [
  {
   "cell_type": "markdown",
   "metadata": {},
   "source": [
    "# Problem 52"
   ]
  },
  {
   "cell_type": "markdown",
   "metadata": {},
   "source": [
    "## Permuted multiples"
   ]
  },
  {
   "cell_type": "code",
   "execution_count": 1,
   "metadata": {},
   "outputs": [],
   "source": [
    "digits= [0]*11\n",
    "count= 0"
   ]
  },
  {
   "cell_type": "code",
   "execution_count": 2,
   "metadata": {},
   "outputs": [],
   "source": [
    "i= 100\n",
    "while count!= 5:\n",
    "    i+=1\n",
    "    \n",
    "    digits= [0]*11\n",
    "    \n",
    "    check_num= int(str(i)[0] + str(i)[1])\n",
    "    if(check_num> 16):\n",
    "        continue\n",
    "    count= 0\n",
    "    num = i\n",
    "    num_dup= num\n",
    "\n",
    "    while num>0:\n",
    "        n= num%10\n",
    "        digits[n]+= 1\n",
    "        num= num//10\n",
    "    \n",
    "    for j in range(2, 7, 1):\n",
    "        digits_mul= [0]*11\n",
    "        num_mul = num_dup* j\n",
    "        \n",
    "        while num_mul>0:\n",
    "            n= num_mul%10\n",
    "            digits_mul[n]= 1\n",
    "            num_mul= num_mul//10\n",
    "\n",
    "        if(digits == digits_mul):\n",
    "                count+=1"
   ]
  },
  {
   "cell_type": "code",
   "execution_count": 3,
   "metadata": {},
   "outputs": [
    {
     "data": {
      "text/plain": [
       "142857"
      ]
     },
     "execution_count": 3,
     "metadata": {},
     "output_type": "execute_result"
    }
   ],
   "source": [
    "i"
   ]
  }
 ],
 "metadata": {
  "kernelspec": {
   "display_name": "Python 3",
   "language": "python",
   "name": "python3"
  },
  "language_info": {
   "codemirror_mode": {
    "name": "ipython",
    "version": 3
   },
   "file_extension": ".py",
   "mimetype": "text/x-python",
   "name": "python",
   "nbconvert_exporter": "python",
   "pygments_lexer": "ipython3",
   "version": "3.7.3"
  }
 },
 "nbformat": 4,
 "nbformat_minor": 2
}
