{
 "cells": [
  {
   "cell_type": "markdown",
   "metadata": {},
   "source": [
    "# Problem 112"
   ]
  },
  {
   "cell_type": "markdown",
   "metadata": {},
   "source": [
    "## Bouncy numbers"
   ]
  },
  {
   "cell_type": "code",
   "execution_count": 1,
   "metadata": {},
   "outputs": [],
   "source": [
    "bouncy= 0\n",
    "i= 0"
   ]
  },
  {
   "cell_type": "code",
   "execution_count": 2,
   "metadata": {},
   "outputs": [],
   "source": [
    "while(True):\n",
    "    i+=1\n",
    "    num= i\n",
    "    inc= 0\n",
    "    dec= 0\n",
    "    while num>=10:\n",
    "        if((num%10)>((num//10)%10)):\n",
    "            inc= 1\n",
    "            if(dec==1):\n",
    "                bouncy+= 1\n",
    "                break\n",
    "        elif((num%10)<((num//10)%10)):\n",
    "            dec= 1\n",
    "            if(inc==1):\n",
    "                bouncy+= 1\n",
    "                break\n",
    "        num= num//10\n",
    "    if(((bouncy/i)*100)== 99):\n",
    "        break"
   ]
  },
  {
   "cell_type": "code",
   "execution_count": 3,
   "metadata": {},
   "outputs": [
    {
     "data": {
      "text/plain": [
       "1587000"
      ]
     },
     "execution_count": 3,
     "metadata": {},
     "output_type": "execute_result"
    }
   ],
   "source": [
    "i"
   ]
  }
 ],
 "metadata": {
  "kernelspec": {
   "display_name": "Python 3",
   "language": "python",
   "name": "python3"
  },
  "language_info": {
   "codemirror_mode": {
    "name": "ipython",
    "version": 3
   },
   "file_extension": ".py",
   "mimetype": "text/x-python",
   "name": "python",
   "nbconvert_exporter": "python",
   "pygments_lexer": "ipython3",
   "version": "3.7.3"
  }
 },
 "nbformat": 4,
 "nbformat_minor": 2
}
