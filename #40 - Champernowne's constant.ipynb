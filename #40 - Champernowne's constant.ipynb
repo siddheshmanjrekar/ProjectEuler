{
 "cells": [
  {
   "cell_type": "markdown",
   "metadata": {},
   "source": [
    "# Problem 40"
   ]
  },
  {
   "cell_type": "markdown",
   "metadata": {},
   "source": [
    "## Champernowne's constant"
   ]
  },
  {
   "cell_type": "code",
   "execution_count": 1,
   "metadata": {},
   "outputs": [],
   "source": [
    "product= 1"
   ]
  },
  {
   "cell_type": "code",
   "execution_count": 2,
   "metadata": {},
   "outputs": [],
   "source": [
    "for i in range(7):\n",
    "    n= 10**i\n",
    "    n_digit= -1\n",
    "    reduction= 0\n",
    "    rem= 0\n",
    "    while(reduction<n):\n",
    "        n-= reduction\n",
    "        n_digit+= 1\n",
    "        reduction= (10**n_digit)* 9* (n_digit+1)\n",
    "\n",
    "    if(n>10):\n",
    "        num= n// (n_digit+1)\n",
    "        rem= n% (n_digit+1)\n",
    "        n= num+ (10**n_digit)\n",
    "    digit=str(n)\n",
    "    product*= int(digit[rem-1])"
   ]
  },
  {
   "cell_type": "code",
   "execution_count": 3,
   "metadata": {},
   "outputs": [
    {
     "data": {
      "text/plain": [
       "210"
      ]
     },
     "execution_count": 3,
     "metadata": {},
     "output_type": "execute_result"
    }
   ],
   "source": [
    "product"
   ]
  }
 ],
 "metadata": {
  "kernelspec": {
   "display_name": "Python 3",
   "language": "python",
   "name": "python3"
  },
  "language_info": {
   "codemirror_mode": {
    "name": "ipython",
    "version": 3
   },
   "file_extension": ".py",
   "mimetype": "text/x-python",
   "name": "python",
   "nbconvert_exporter": "python",
   "pygments_lexer": "ipython3",
   "version": "3.7.3"
  }
 },
 "nbformat": 4,
 "nbformat_minor": 2
}
